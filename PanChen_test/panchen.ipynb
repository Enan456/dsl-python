{
 "cells": [
  {
   "cell_type": "code",
   "execution_count": null,
   "metadata": {},
   "outputs": [],
   "source": [
    "#conver data/PanChen.rdata to parquet\n",
    "import pandas as pd\n",
    "import pyreadr\n",
    "\n",
    "# Load the R data file\n",
    "result = pyreadr.read_r('data/PanChen.rdata')\n",
    "\n",
    "print(result.keys())  # check the object name\n",
    "df = result[\"PanChen\"] \n",
    "\n",
    "df.to_parquet('data/PanChen.parquet')"
   ]
  },
  {
   "cell_type": "code",
   "execution_count": null,
   "metadata": {},
   "outputs": [],
   "source": []
  }
 ],
 "metadata": {
  "language_info": {
   "name": "python"
  }
 },
 "nbformat": 4,
 "nbformat_minor": 2
}
